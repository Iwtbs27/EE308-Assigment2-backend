{
 "cells": [
  {
   "cell_type": "code",
   "execution_count": 1,
   "id": "3ae9a2e9",
   "metadata": {},
   "outputs": [
    {
     "name": "stdout",
     "output_type": "stream",
     "text": [
      "Defaulting to user installation because normal site-packages is not writeable\n",
      "Looking in indexes: https://opentuna.cn/pypi/web/simple\n",
      "Requirement already satisfied: Flask in e:\\anaconda\\lib\\site-packages (1.1.2)\n",
      "Requirement already satisfied: flask-cors in c:\\users\\31944\\appdata\\roaming\\python\\python39\\site-packages (4.0.0)\n",
      "Requirement already satisfied: pymysql in c:\\users\\31944\\appdata\\roaming\\python\\python39\\site-packages (1.1.0)\n",
      "Requirement already satisfied: click>=5.1 in e:\\anaconda\\lib\\site-packages (from Flask) (8.0.4)\n",
      "Requirement already satisfied: Werkzeug>=0.15 in e:\\anaconda\\lib\\site-packages (from Flask) (2.0.3)\n",
      "Requirement already satisfied: Jinja2>=2.10.1 in e:\\anaconda\\lib\\site-packages (from Flask) (2.11.3)\n",
      "Requirement already satisfied: itsdangerous>=0.24 in e:\\anaconda\\lib\\site-packages (from Flask) (2.0.1)\n",
      "Requirement already satisfied: colorama in c:\\users\\31944\\appdata\\roaming\\python\\python39\\site-packages (from click>=5.1->Flask) (0.4.6)\n",
      "Requirement already satisfied: MarkupSafe>=0.23 in e:\\anaconda\\lib\\site-packages (from Jinja2>=2.10.1->Flask) (2.0.1)\n"
     ]
    }
   ],
   "source": [
    "# !pip install Flask flask-cors pymysql"
   ]
  },
  {
   "cell_type": "code",
   "execution_count": null,
   "id": "1ba9e271",
   "metadata": {},
   "outputs": [
    {
     "name": "stdout",
     "output_type": "stream",
     "text": [
      " * Serving Flask app \"__main__\" (lazy loading)\n",
      " * Environment: production\n",
      "\u001b[31m   WARNING: This is a development server. Do not use it in a production deployment.\u001b[0m\n",
      "\u001b[2m   Use a production WSGI server instead.\u001b[0m\n",
      " * Debug mode: off\n"
     ]
    },
    {
     "name": "stderr",
     "output_type": "stream",
     "text": [
      " * Running on http://localhost:5000/ (Press CTRL+C to quit)\n",
      "127.0.0.1 - - [21/Oct/2023 23:41:14] \"OPTIONS /post HTTP/1.1\" 200 -\n",
      "127.0.0.1 - - [21/Oct/2023 23:41:14] \"POST /post HTTP/1.1\" 200 -\n"
     ]
    },
    {
     "name": "stdout",
     "output_type": "stream",
     "text": [
      "8*9=72.000\n"
     ]
    },
    {
     "name": "stderr",
     "output_type": "stream",
     "text": [
      "127.0.0.1 - - [21/Oct/2023 23:41:15] \"GET /get HTTP/1.1\" 200 -\n",
      "127.0.0.1 - - [21/Oct/2023 23:50:51] \"OPTIONS /post HTTP/1.1\" 200 -\n",
      "127.0.0.1 - - [21/Oct/2023 23:50:51] \"POST /post HTTP/1.1\" 200 -\n"
     ]
    },
    {
     "name": "stdout",
     "output_type": "stream",
     "text": [
      "5*sin(30)=2.500\n"
     ]
    },
    {
     "name": "stderr",
     "output_type": "stream",
     "text": [
      "127.0.0.1 - - [21/Oct/2023 23:50:52] \"GET /get HTTP/1.1\" 200 -\n",
      "127.0.0.1 - - [21/Oct/2023 23:53:21] \"OPTIONS /post HTTP/1.1\" 200 -\n",
      "127.0.0.1 - - [21/Oct/2023 23:53:21] \"POST /post HTTP/1.1\" 200 -\n"
     ]
    },
    {
     "name": "stdout",
     "output_type": "stream",
     "text": [
      "5*cos(60)=2.500\n"
     ]
    },
    {
     "name": "stderr",
     "output_type": "stream",
     "text": [
      "127.0.0.1 - - [21/Oct/2023 23:53:22] \"GET /get HTTP/1.1\" 200 -\n",
      "127.0.0.1 - - [21/Oct/2023 23:54:39] \"OPTIONS /post HTTP/1.1\" 200 -\n",
      "127.0.0.1 - - [21/Oct/2023 23:54:39] \"POST /post HTTP/1.1\" 200 -\n"
     ]
    },
    {
     "name": "stdout",
     "output_type": "stream",
     "text": [
      "8*cos(60)=4.000\n"
     ]
    },
    {
     "name": "stderr",
     "output_type": "stream",
     "text": [
      "127.0.0.1 - - [21/Oct/2023 23:54:40] \"GET /get HTTP/1.1\" 200 -\n",
      "127.0.0.1 - - [21/Oct/2023 23:56:56] \"GET /get HTTP/1.1\" 200 -\n"
     ]
    }
   ],
   "source": [
    "from flask import Flask, request, jsonify\n",
    "from flask_cors import CORS\n",
    "import pymysql\n",
    "import datetime\n",
    "\n",
    "app = Flask(__name__)  # 创建Flask应用\n",
    "CORS(app)  # 启用CORS（跨域资源共享）\n",
    "\n",
    "array = []  # 用于存储历史计算结果的数组\n",
    "\n",
    "@app.route('/post', methods=['POST'])\n",
    "def hello_world():\n",
    "    try:\n",
    "        data = request.get_json()  # 获取POST请求的JSON数据\n",
    "        expression = data.get('expression')  # 从JSON数据中获取表达式\n",
    "        result = data.get('result')  # 从JSON数据中获取计算结果\n",
    "        print(str(expression) + \"=\" + str(result))  # 打印表达式和结果\n",
    "        array.append(str(expression) + \"=\" + str(result))  # 将表达式和结果添加到历史记录数组中\n",
    "    except:\n",
    "        print(\"error\")\n",
    "    return 'Hello, World!'  # 返回响应\n",
    "\n",
    "@app.route('/get', methods=['GET'])\n",
    "def get_calculation_data():\n",
    "    try:\n",
    "        return jsonify({\"data\": array[-10:]})  # 返回包含最近10个历史记录的JSON数据\n",
    "    except:\n",
    "        print(\"error\")\n",
    "if __name__ == '__main__':\n",
    "    app.run(host='localhost', port=5000)  # 启动Flask应用，监听在localhost的5000端口\n",
    "\n"
   ]
  },
  {
   "cell_type": "code",
   "execution_count": null,
   "id": "8198fc67",
   "metadata": {},
   "outputs": [],
   "source": []
  },
  {
   "cell_type": "code",
   "execution_count": null,
   "id": "4ef6c17a",
   "metadata": {},
   "outputs": [],
   "source": []
  }
 ],
 "metadata": {
  "kernelspec": {
   "display_name": "Python 3 (ipykernel)",
   "language": "python",
   "name": "python3"
  },
  "language_info": {
   "codemirror_mode": {
    "name": "ipython",
    "version": 3
   },
   "file_extension": ".py",
   "mimetype": "text/x-python",
   "name": "python",
   "nbconvert_exporter": "python",
   "pygments_lexer": "ipython3",
   "version": "3.9.13"
  }
 },
 "nbformat": 4,
 "nbformat_minor": 5
}
